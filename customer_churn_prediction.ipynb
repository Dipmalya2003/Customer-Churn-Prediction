{
 "cells": [
  {
   "cell_type": "markdown",
   "metadata": {},
   "source": [
    "**Customer Churn Prediction:**"
   ]
  },
  {
   "cell_type": "markdown",
   "metadata": {},
   "source": [
    "**import Library**"
   ]
  },
  {
   "cell_type": "code",
   "execution_count": 20,
   "metadata": {},
   "outputs": [],
   "source": [
    "import numpy as np\n",
    "import pandas as pd\n",
    "pd.set_option('display.max_columns',None)\n",
    "import matplotlib.pyplot as plt\n",
    "import seaborn as sns\n",
    "sns.set_style('darkgrid')\n",
    "import warnings\n",
    "warnings.filterwarnings('ignore')\n",
    "\n",
    "from sklearn.preprocessing import StandardScaler,OneHotEncoder\n",
    "from sklearn.ensemble import RandomForestClassifier,VotingClassifier\n",
    "from sklearn.tree import DecisionTreeClassifier\n",
    "from xgboost import XGBClassifier\n",
    "from lightgbm import LGBMClassifier\n",
    "\n",
    "from sklearn.model_selection import RandomizedSearchCV\n",
    "from sklearn.model_selection import cross_val_score\n",
    "from sklearn.metrics import roc_auc_score"
   ]
  },
  {
   "cell_type": "code",
   "execution_count": 21,
   "metadata": {},
   "outputs": [],
   "source": [
    "df=pd.read_csv('Churn_Modelling.csv')"
   ]
  },
  {
   "cell_type": "code",
   "execution_count": 22,
   "metadata": {},
   "outputs": [
    {
     "name": "stdout",
     "output_type": "stream",
     "text": [
      "<class 'pandas.core.frame.DataFrame'>\n",
      "RangeIndex: 10000 entries, 0 to 9999\n",
      "Data columns (total 14 columns):\n",
      " #   Column           Non-Null Count  Dtype  \n",
      "---  ------           --------------  -----  \n",
      " 0   RowNumber        10000 non-null  int64  \n",
      " 1   CustomerId       10000 non-null  int64  \n",
      " 2   Surname          10000 non-null  object \n",
      " 3   CreditScore      10000 non-null  int64  \n",
      " 4   Geography        10000 non-null  object \n",
      " 5   Gender           10000 non-null  object \n",
      " 6   Age              10000 non-null  int64  \n",
      " 7   Tenure           10000 non-null  int64  \n",
      " 8   Balance          10000 non-null  float64\n",
      " 9   NumOfProducts    10000 non-null  int64  \n",
      " 10  HasCrCard        10000 non-null  int64  \n",
      " 11  IsActiveMember   10000 non-null  int64  \n",
      " 12  EstimatedSalary  10000 non-null  float64\n",
      " 13  Exited           10000 non-null  int64  \n",
      "dtypes: float64(2), int64(9), object(3)\n",
      "memory usage: 1.1+ MB\n"
     ]
    }
   ],
   "source": [
    "df.info()"
   ]
  },
  {
   "cell_type": "code",
   "execution_count": 23,
   "metadata": {},
   "outputs": [
    {
     "data": {
      "text/html": [
       "<div>\n",
       "<style scoped>\n",
       "    .dataframe tbody tr th:only-of-type {\n",
       "        vertical-align: middle;\n",
       "    }\n",
       "\n",
       "    .dataframe tbody tr th {\n",
       "        vertical-align: top;\n",
       "    }\n",
       "\n",
       "    .dataframe thead th {\n",
       "        text-align: right;\n",
       "    }\n",
       "</style>\n",
       "<table border=\"1\" class=\"dataframe\">\n",
       "  <thead>\n",
       "    <tr style=\"text-align: right;\">\n",
       "      <th></th>\n",
       "      <th>RowNumber</th>\n",
       "      <th>CustomerId</th>\n",
       "      <th>Surname</th>\n",
       "      <th>CreditScore</th>\n",
       "      <th>Geography</th>\n",
       "      <th>Gender</th>\n",
       "      <th>Age</th>\n",
       "      <th>Tenure</th>\n",
       "      <th>Balance</th>\n",
       "      <th>NumOfProducts</th>\n",
       "      <th>HasCrCard</th>\n",
       "      <th>IsActiveMember</th>\n",
       "      <th>EstimatedSalary</th>\n",
       "      <th>Exited</th>\n",
       "    </tr>\n",
       "  </thead>\n",
       "  <tbody>\n",
       "    <tr>\n",
       "      <th>0</th>\n",
       "      <td>1</td>\n",
       "      <td>15634602</td>\n",
       "      <td>Hargrave</td>\n",
       "      <td>619</td>\n",
       "      <td>France</td>\n",
       "      <td>Female</td>\n",
       "      <td>42</td>\n",
       "      <td>2</td>\n",
       "      <td>0.00</td>\n",
       "      <td>1</td>\n",
       "      <td>1</td>\n",
       "      <td>1</td>\n",
       "      <td>101348.88</td>\n",
       "      <td>1</td>\n",
       "    </tr>\n",
       "    <tr>\n",
       "      <th>1</th>\n",
       "      <td>2</td>\n",
       "      <td>15647311</td>\n",
       "      <td>Hill</td>\n",
       "      <td>608</td>\n",
       "      <td>Spain</td>\n",
       "      <td>Female</td>\n",
       "      <td>41</td>\n",
       "      <td>1</td>\n",
       "      <td>83807.86</td>\n",
       "      <td>1</td>\n",
       "      <td>0</td>\n",
       "      <td>1</td>\n",
       "      <td>112542.58</td>\n",
       "      <td>0</td>\n",
       "    </tr>\n",
       "    <tr>\n",
       "      <th>2</th>\n",
       "      <td>3</td>\n",
       "      <td>15619304</td>\n",
       "      <td>Onio</td>\n",
       "      <td>502</td>\n",
       "      <td>France</td>\n",
       "      <td>Female</td>\n",
       "      <td>42</td>\n",
       "      <td>8</td>\n",
       "      <td>159660.80</td>\n",
       "      <td>3</td>\n",
       "      <td>1</td>\n",
       "      <td>0</td>\n",
       "      <td>113931.57</td>\n",
       "      <td>1</td>\n",
       "    </tr>\n",
       "    <tr>\n",
       "      <th>3</th>\n",
       "      <td>4</td>\n",
       "      <td>15701354</td>\n",
       "      <td>Boni</td>\n",
       "      <td>699</td>\n",
       "      <td>France</td>\n",
       "      <td>Female</td>\n",
       "      <td>39</td>\n",
       "      <td>1</td>\n",
       "      <td>0.00</td>\n",
       "      <td>2</td>\n",
       "      <td>0</td>\n",
       "      <td>0</td>\n",
       "      <td>93826.63</td>\n",
       "      <td>0</td>\n",
       "    </tr>\n",
       "    <tr>\n",
       "      <th>4</th>\n",
       "      <td>5</td>\n",
       "      <td>15737888</td>\n",
       "      <td>Mitchell</td>\n",
       "      <td>850</td>\n",
       "      <td>Spain</td>\n",
       "      <td>Female</td>\n",
       "      <td>43</td>\n",
       "      <td>2</td>\n",
       "      <td>125510.82</td>\n",
       "      <td>1</td>\n",
       "      <td>1</td>\n",
       "      <td>1</td>\n",
       "      <td>79084.10</td>\n",
       "      <td>0</td>\n",
       "    </tr>\n",
       "  </tbody>\n",
       "</table>\n",
       "</div>"
      ],
      "text/plain": [
       "   RowNumber  CustomerId   Surname  CreditScore Geography  Gender  Age  \\\n",
       "0          1    15634602  Hargrave          619    France  Female   42   \n",
       "1          2    15647311      Hill          608     Spain  Female   41   \n",
       "2          3    15619304      Onio          502    France  Female   42   \n",
       "3          4    15701354      Boni          699    France  Female   39   \n",
       "4          5    15737888  Mitchell          850     Spain  Female   43   \n",
       "\n",
       "   Tenure    Balance  NumOfProducts  HasCrCard  IsActiveMember  \\\n",
       "0       2       0.00              1          1               1   \n",
       "1       1   83807.86              1          0               1   \n",
       "2       8  159660.80              3          1               0   \n",
       "3       1       0.00              2          0               0   \n",
       "4       2  125510.82              1          1               1   \n",
       "\n",
       "   EstimatedSalary  Exited  \n",
       "0        101348.88       1  \n",
       "1        112542.58       0  \n",
       "2        113931.57       1  \n",
       "3         93826.63       0  \n",
       "4         79084.10       0  "
      ]
     },
     "execution_count": 23,
     "metadata": {},
     "output_type": "execute_result"
    }
   ],
   "source": [
    "df.head()"
   ]
  },
  {
   "cell_type": "code",
   "execution_count": 24,
   "metadata": {},
   "outputs": [
    {
     "data": {
      "text/html": [
       "<style type=\"text/css\">\n",
       "#T_8e8e7_row0_col0, #T_8e8e7_row0_col2, #T_8e8e7_row0_col3, #T_8e8e7_row0_col4, #T_8e8e7_row0_col6, #T_8e8e7_row0_col7, #T_8e8e7_row0_col8, #T_8e8e7_row0_col10, #T_8e8e7_row7_col0, #T_8e8e7_row7_col1, #T_8e8e7_row7_col5, #T_8e8e7_row7_col9 {\n",
       "  background-color: #67000d;\n",
       "  color: #f1f1f1;\n",
       "}\n",
       "#T_8e8e7_row0_col1, #T_8e8e7_row1_col3, #T_8e8e7_row1_col4, #T_8e8e7_row1_col6, #T_8e8e7_row1_col7, #T_8e8e7_row1_col8, #T_8e8e7_row1_col10, #T_8e8e7_row2_col2, #T_8e8e7_row2_col3, #T_8e8e7_row2_col4, #T_8e8e7_row2_col6, #T_8e8e7_row2_col7, #T_8e8e7_row2_col8, #T_8e8e7_row2_col10, #T_8e8e7_row3_col0, #T_8e8e7_row3_col3, #T_8e8e7_row3_col4, #T_8e8e7_row3_col5, #T_8e8e7_row3_col6, #T_8e8e7_row3_col7, #T_8e8e7_row3_col8, #T_8e8e7_row3_col9, #T_8e8e7_row3_col10, #T_8e8e7_row4_col3, #T_8e8e7_row4_col4, #T_8e8e7_row4_col5, #T_8e8e7_row4_col6, #T_8e8e7_row4_col7, #T_8e8e7_row4_col8, #T_8e8e7_row4_col10, #T_8e8e7_row5_col3, #T_8e8e7_row5_col4, #T_8e8e7_row5_col6, #T_8e8e7_row5_col7, #T_8e8e7_row5_col8, #T_8e8e7_row5_col10, #T_8e8e7_row6_col3, #T_8e8e7_row6_col4, #T_8e8e7_row6_col6, #T_8e8e7_row6_col7, #T_8e8e7_row6_col8, #T_8e8e7_row6_col10, #T_8e8e7_row7_col4, #T_8e8e7_row7_col6, #T_8e8e7_row7_col7, #T_8e8e7_row7_col8, #T_8e8e7_row7_col10 {\n",
       "  background-color: #fff5f0;\n",
       "  color: #000000;\n",
       "}\n",
       "#T_8e8e7_row0_col5 {\n",
       "  background-color: #ffeee7;\n",
       "  color: #000000;\n",
       "}\n",
       "#T_8e8e7_row0_col9, #T_8e8e7_row4_col2 {\n",
       "  background-color: #ffede5;\n",
       "  color: #000000;\n",
       "}\n",
       "#T_8e8e7_row1_col0, #T_8e8e7_row1_col9, #T_8e8e7_row5_col0, #T_8e8e7_row5_col9 {\n",
       "  background-color: #fb694a;\n",
       "  color: #f1f1f1;\n",
       "}\n",
       "#T_8e8e7_row1_col1, #T_8e8e7_row5_col1 {\n",
       "  background-color: #6b010e;\n",
       "  color: #f1f1f1;\n",
       "}\n",
       "#T_8e8e7_row1_col2, #T_8e8e7_row5_col2 {\n",
       "  background-color: #ffece3;\n",
       "  color: #000000;\n",
       "}\n",
       "#T_8e8e7_row1_col5 {\n",
       "  background-color: #fca98c;\n",
       "  color: #000000;\n",
       "}\n",
       "#T_8e8e7_row2_col0, #T_8e8e7_row2_col9 {\n",
       "  background-color: #fcaf93;\n",
       "  color: #000000;\n",
       "}\n",
       "#T_8e8e7_row2_col1 {\n",
       "  background-color: #fff4ef;\n",
       "  color: #000000;\n",
       "}\n",
       "#T_8e8e7_row2_col5 {\n",
       "  background-color: #fcbca2;\n",
       "  color: #000000;\n",
       "}\n",
       "#T_8e8e7_row3_col1 {\n",
       "  background-color: #6f020e;\n",
       "  color: #f1f1f1;\n",
       "}\n",
       "#T_8e8e7_row3_col2 {\n",
       "  background-color: #fff1ea;\n",
       "  color: #000000;\n",
       "}\n",
       "#T_8e8e7_row4_col0 {\n",
       "  background-color: #fcbba1;\n",
       "  color: #000000;\n",
       "}\n",
       "#T_8e8e7_row4_col1 {\n",
       "  background-color: #6d010e;\n",
       "  color: #f1f1f1;\n",
       "}\n",
       "#T_8e8e7_row4_col9 {\n",
       "  background-color: #fcb99f;\n",
       "  color: #000000;\n",
       "}\n",
       "#T_8e8e7_row5_col5 {\n",
       "  background-color: #fc8e6e;\n",
       "  color: #000000;\n",
       "}\n",
       "#T_8e8e7_row6_col0 {\n",
       "  background-color: #ca181d;\n",
       "  color: #f1f1f1;\n",
       "}\n",
       "#T_8e8e7_row6_col1 {\n",
       "  background-color: #69000d;\n",
       "  color: #f1f1f1;\n",
       "}\n",
       "#T_8e8e7_row6_col2 {\n",
       "  background-color: #feeae1;\n",
       "  color: #000000;\n",
       "}\n",
       "#T_8e8e7_row6_col5 {\n",
       "  background-color: #fa6648;\n",
       "  color: #f1f1f1;\n",
       "}\n",
       "#T_8e8e7_row6_col9 {\n",
       "  background-color: #cb181d;\n",
       "  color: #f1f1f1;\n",
       "}\n",
       "#T_8e8e7_row7_col2 {\n",
       "  background-color: #fee8de;\n",
       "  color: #000000;\n",
       "}\n",
       "#T_8e8e7_row7_col3 {\n",
       "  background-color: #fff4ee;\n",
       "  color: #000000;\n",
       "}\n",
       "</style>\n",
       "<table id=\"T_8e8e7\">\n",
       "  <thead>\n",
       "    <tr>\n",
       "      <th class=\"blank level0\" >&nbsp;</th>\n",
       "      <th id=\"T_8e8e7_level0_col0\" class=\"col_heading level0 col0\" >RowNumber</th>\n",
       "      <th id=\"T_8e8e7_level0_col1\" class=\"col_heading level0 col1\" >CustomerId</th>\n",
       "      <th id=\"T_8e8e7_level0_col2\" class=\"col_heading level0 col2\" >CreditScore</th>\n",
       "      <th id=\"T_8e8e7_level0_col3\" class=\"col_heading level0 col3\" >Age</th>\n",
       "      <th id=\"T_8e8e7_level0_col4\" class=\"col_heading level0 col4\" >Tenure</th>\n",
       "      <th id=\"T_8e8e7_level0_col5\" class=\"col_heading level0 col5\" >Balance</th>\n",
       "      <th id=\"T_8e8e7_level0_col6\" class=\"col_heading level0 col6\" >NumOfProducts</th>\n",
       "      <th id=\"T_8e8e7_level0_col7\" class=\"col_heading level0 col7\" >HasCrCard</th>\n",
       "      <th id=\"T_8e8e7_level0_col8\" class=\"col_heading level0 col8\" >IsActiveMember</th>\n",
       "      <th id=\"T_8e8e7_level0_col9\" class=\"col_heading level0 col9\" >EstimatedSalary</th>\n",
       "      <th id=\"T_8e8e7_level0_col10\" class=\"col_heading level0 col10\" >Exited</th>\n",
       "    </tr>\n",
       "  </thead>\n",
       "  <tbody>\n",
       "    <tr>\n",
       "      <th id=\"T_8e8e7_level0_row0\" class=\"row_heading level0 row0\" >count</th>\n",
       "      <td id=\"T_8e8e7_row0_col0\" class=\"data row0 col0\" >10000.000000</td>\n",
       "      <td id=\"T_8e8e7_row0_col1\" class=\"data row0 col1\" >10000.000000</td>\n",
       "      <td id=\"T_8e8e7_row0_col2\" class=\"data row0 col2\" >10000.000000</td>\n",
       "      <td id=\"T_8e8e7_row0_col3\" class=\"data row0 col3\" >10000.000000</td>\n",
       "      <td id=\"T_8e8e7_row0_col4\" class=\"data row0 col4\" >10000.000000</td>\n",
       "      <td id=\"T_8e8e7_row0_col5\" class=\"data row0 col5\" >10000.000000</td>\n",
       "      <td id=\"T_8e8e7_row0_col6\" class=\"data row0 col6\" >10000.000000</td>\n",
       "      <td id=\"T_8e8e7_row0_col7\" class=\"data row0 col7\" >10000.000000</td>\n",
       "      <td id=\"T_8e8e7_row0_col8\" class=\"data row0 col8\" >10000.000000</td>\n",
       "      <td id=\"T_8e8e7_row0_col9\" class=\"data row0 col9\" >10000.000000</td>\n",
       "      <td id=\"T_8e8e7_row0_col10\" class=\"data row0 col10\" >10000.000000</td>\n",
       "    </tr>\n",
       "    <tr>\n",
       "      <th id=\"T_8e8e7_level0_row1\" class=\"row_heading level0 row1\" >mean</th>\n",
       "      <td id=\"T_8e8e7_row1_col0\" class=\"data row1 col0\" >5000.500000</td>\n",
       "      <td id=\"T_8e8e7_row1_col1\" class=\"data row1 col1\" >15690940.569400</td>\n",
       "      <td id=\"T_8e8e7_row1_col2\" class=\"data row1 col2\" >650.528800</td>\n",
       "      <td id=\"T_8e8e7_row1_col3\" class=\"data row1 col3\" >38.921800</td>\n",
       "      <td id=\"T_8e8e7_row1_col4\" class=\"data row1 col4\" >5.012800</td>\n",
       "      <td id=\"T_8e8e7_row1_col5\" class=\"data row1 col5\" >76485.889288</td>\n",
       "      <td id=\"T_8e8e7_row1_col6\" class=\"data row1 col6\" >1.530200</td>\n",
       "      <td id=\"T_8e8e7_row1_col7\" class=\"data row1 col7\" >0.705500</td>\n",
       "      <td id=\"T_8e8e7_row1_col8\" class=\"data row1 col8\" >0.515100</td>\n",
       "      <td id=\"T_8e8e7_row1_col9\" class=\"data row1 col9\" >100090.239881</td>\n",
       "      <td id=\"T_8e8e7_row1_col10\" class=\"data row1 col10\" >0.203700</td>\n",
       "    </tr>\n",
       "    <tr>\n",
       "      <th id=\"T_8e8e7_level0_row2\" class=\"row_heading level0 row2\" >std</th>\n",
       "      <td id=\"T_8e8e7_row2_col0\" class=\"data row2 col0\" >2886.895680</td>\n",
       "      <td id=\"T_8e8e7_row2_col1\" class=\"data row2 col1\" >71936.186123</td>\n",
       "      <td id=\"T_8e8e7_row2_col2\" class=\"data row2 col2\" >96.653299</td>\n",
       "      <td id=\"T_8e8e7_row2_col3\" class=\"data row2 col3\" >10.487806</td>\n",
       "      <td id=\"T_8e8e7_row2_col4\" class=\"data row2 col4\" >2.892174</td>\n",
       "      <td id=\"T_8e8e7_row2_col5\" class=\"data row2 col5\" >62397.405202</td>\n",
       "      <td id=\"T_8e8e7_row2_col6\" class=\"data row2 col6\" >0.581654</td>\n",
       "      <td id=\"T_8e8e7_row2_col7\" class=\"data row2 col7\" >0.455840</td>\n",
       "      <td id=\"T_8e8e7_row2_col8\" class=\"data row2 col8\" >0.499797</td>\n",
       "      <td id=\"T_8e8e7_row2_col9\" class=\"data row2 col9\" >57510.492818</td>\n",
       "      <td id=\"T_8e8e7_row2_col10\" class=\"data row2 col10\" >0.402769</td>\n",
       "    </tr>\n",
       "    <tr>\n",
       "      <th id=\"T_8e8e7_level0_row3\" class=\"row_heading level0 row3\" >min</th>\n",
       "      <td id=\"T_8e8e7_row3_col0\" class=\"data row3 col0\" >1.000000</td>\n",
       "      <td id=\"T_8e8e7_row3_col1\" class=\"data row3 col1\" >15565701.000000</td>\n",
       "      <td id=\"T_8e8e7_row3_col2\" class=\"data row3 col2\" >350.000000</td>\n",
       "      <td id=\"T_8e8e7_row3_col3\" class=\"data row3 col3\" >18.000000</td>\n",
       "      <td id=\"T_8e8e7_row3_col4\" class=\"data row3 col4\" >0.000000</td>\n",
       "      <td id=\"T_8e8e7_row3_col5\" class=\"data row3 col5\" >0.000000</td>\n",
       "      <td id=\"T_8e8e7_row3_col6\" class=\"data row3 col6\" >1.000000</td>\n",
       "      <td id=\"T_8e8e7_row3_col7\" class=\"data row3 col7\" >0.000000</td>\n",
       "      <td id=\"T_8e8e7_row3_col8\" class=\"data row3 col8\" >0.000000</td>\n",
       "      <td id=\"T_8e8e7_row3_col9\" class=\"data row3 col9\" >11.580000</td>\n",
       "      <td id=\"T_8e8e7_row3_col10\" class=\"data row3 col10\" >0.000000</td>\n",
       "    </tr>\n",
       "    <tr>\n",
       "      <th id=\"T_8e8e7_level0_row4\" class=\"row_heading level0 row4\" >25%</th>\n",
       "      <td id=\"T_8e8e7_row4_col0\" class=\"data row4 col0\" >2500.750000</td>\n",
       "      <td id=\"T_8e8e7_row4_col1\" class=\"data row4 col1\" >15628528.250000</td>\n",
       "      <td id=\"T_8e8e7_row4_col2\" class=\"data row4 col2\" >584.000000</td>\n",
       "      <td id=\"T_8e8e7_row4_col3\" class=\"data row4 col3\" >32.000000</td>\n",
       "      <td id=\"T_8e8e7_row4_col4\" class=\"data row4 col4\" >3.000000</td>\n",
       "      <td id=\"T_8e8e7_row4_col5\" class=\"data row4 col5\" >0.000000</td>\n",
       "      <td id=\"T_8e8e7_row4_col6\" class=\"data row4 col6\" >1.000000</td>\n",
       "      <td id=\"T_8e8e7_row4_col7\" class=\"data row4 col7\" >0.000000</td>\n",
       "      <td id=\"T_8e8e7_row4_col8\" class=\"data row4 col8\" >0.000000</td>\n",
       "      <td id=\"T_8e8e7_row4_col9\" class=\"data row4 col9\" >51002.110000</td>\n",
       "      <td id=\"T_8e8e7_row4_col10\" class=\"data row4 col10\" >0.000000</td>\n",
       "    </tr>\n",
       "    <tr>\n",
       "      <th id=\"T_8e8e7_level0_row5\" class=\"row_heading level0 row5\" >50%</th>\n",
       "      <td id=\"T_8e8e7_row5_col0\" class=\"data row5 col0\" >5000.500000</td>\n",
       "      <td id=\"T_8e8e7_row5_col1\" class=\"data row5 col1\" >15690738.000000</td>\n",
       "      <td id=\"T_8e8e7_row5_col2\" class=\"data row5 col2\" >652.000000</td>\n",
       "      <td id=\"T_8e8e7_row5_col3\" class=\"data row5 col3\" >37.000000</td>\n",
       "      <td id=\"T_8e8e7_row5_col4\" class=\"data row5 col4\" >5.000000</td>\n",
       "      <td id=\"T_8e8e7_row5_col5\" class=\"data row5 col5\" >97198.540000</td>\n",
       "      <td id=\"T_8e8e7_row5_col6\" class=\"data row5 col6\" >1.000000</td>\n",
       "      <td id=\"T_8e8e7_row5_col7\" class=\"data row5 col7\" >1.000000</td>\n",
       "      <td id=\"T_8e8e7_row5_col8\" class=\"data row5 col8\" >1.000000</td>\n",
       "      <td id=\"T_8e8e7_row5_col9\" class=\"data row5 col9\" >100193.915000</td>\n",
       "      <td id=\"T_8e8e7_row5_col10\" class=\"data row5 col10\" >0.000000</td>\n",
       "    </tr>\n",
       "    <tr>\n",
       "      <th id=\"T_8e8e7_level0_row6\" class=\"row_heading level0 row6\" >75%</th>\n",
       "      <td id=\"T_8e8e7_row6_col0\" class=\"data row6 col0\" >7500.250000</td>\n",
       "      <td id=\"T_8e8e7_row6_col1\" class=\"data row6 col1\" >15753233.750000</td>\n",
       "      <td id=\"T_8e8e7_row6_col2\" class=\"data row6 col2\" >718.000000</td>\n",
       "      <td id=\"T_8e8e7_row6_col3\" class=\"data row6 col3\" >44.000000</td>\n",
       "      <td id=\"T_8e8e7_row6_col4\" class=\"data row6 col4\" >7.000000</td>\n",
       "      <td id=\"T_8e8e7_row6_col5\" class=\"data row6 col5\" >127644.240000</td>\n",
       "      <td id=\"T_8e8e7_row6_col6\" class=\"data row6 col6\" >2.000000</td>\n",
       "      <td id=\"T_8e8e7_row6_col7\" class=\"data row6 col7\" >1.000000</td>\n",
       "      <td id=\"T_8e8e7_row6_col8\" class=\"data row6 col8\" >1.000000</td>\n",
       "      <td id=\"T_8e8e7_row6_col9\" class=\"data row6 col9\" >149388.247500</td>\n",
       "      <td id=\"T_8e8e7_row6_col10\" class=\"data row6 col10\" >0.000000</td>\n",
       "    </tr>\n",
       "    <tr>\n",
       "      <th id=\"T_8e8e7_level0_row7\" class=\"row_heading level0 row7\" >max</th>\n",
       "      <td id=\"T_8e8e7_row7_col0\" class=\"data row7 col0\" >10000.000000</td>\n",
       "      <td id=\"T_8e8e7_row7_col1\" class=\"data row7 col1\" >15815690.000000</td>\n",
       "      <td id=\"T_8e8e7_row7_col2\" class=\"data row7 col2\" >850.000000</td>\n",
       "      <td id=\"T_8e8e7_row7_col3\" class=\"data row7 col3\" >92.000000</td>\n",
       "      <td id=\"T_8e8e7_row7_col4\" class=\"data row7 col4\" >10.000000</td>\n",
       "      <td id=\"T_8e8e7_row7_col5\" class=\"data row7 col5\" >250898.090000</td>\n",
       "      <td id=\"T_8e8e7_row7_col6\" class=\"data row7 col6\" >4.000000</td>\n",
       "      <td id=\"T_8e8e7_row7_col7\" class=\"data row7 col7\" >1.000000</td>\n",
       "      <td id=\"T_8e8e7_row7_col8\" class=\"data row7 col8\" >1.000000</td>\n",
       "      <td id=\"T_8e8e7_row7_col9\" class=\"data row7 col9\" >199992.480000</td>\n",
       "      <td id=\"T_8e8e7_row7_col10\" class=\"data row7 col10\" >1.000000</td>\n",
       "    </tr>\n",
       "  </tbody>\n",
       "</table>\n"
      ],
      "text/plain": [
       "<pandas.io.formats.style.Styler at 0x220d2b2ad10>"
      ]
     },
     "execution_count": 24,
     "metadata": {},
     "output_type": "execute_result"
    }
   ],
   "source": [
    "df.describe().style.background_gradient(cmap='Reds')"
   ]
  },
  {
   "cell_type": "code",
   "execution_count": 25,
   "metadata": {},
   "outputs": [
    {
     "data": {
      "text/html": [
       "<style type=\"text/css\">\n",
       "#T_922b9_row0_col0, #T_922b9_row1_col0, #T_922b9_row2_col0, #T_922b9_row3_col0, #T_922b9_row4_col0, #T_922b9_row4_col1, #T_922b9_row5_col0, #T_922b9_row5_col1, #T_922b9_row6_col0, #T_922b9_row7_col0, #T_922b9_row7_col1, #T_922b9_row8_col0, #T_922b9_row9_col0, #T_922b9_row9_col1, #T_922b9_row10_col0, #T_922b9_row10_col1, #T_922b9_row11_col0, #T_922b9_row11_col1, #T_922b9_row12_col0, #T_922b9_row13_col0, #T_922b9_row13_col1 {\n",
       "  background-color: #fff5f0;\n",
       "  color: #000000;\n",
       "}\n",
       "#T_922b9_row0_col1, #T_922b9_row1_col1, #T_922b9_row12_col1 {\n",
       "  background-color: #67000d;\n",
       "  color: #f1f1f1;\n",
       "}\n",
       "#T_922b9_row2_col1 {\n",
       "  background-color: #fcad90;\n",
       "  color: #000000;\n",
       "}\n",
       "#T_922b9_row3_col1 {\n",
       "  background-color: #ffeee6;\n",
       "  color: #000000;\n",
       "}\n",
       "#T_922b9_row6_col1 {\n",
       "  background-color: #fff4ef;\n",
       "  color: #000000;\n",
       "}\n",
       "#T_922b9_row8_col1 {\n",
       "  background-color: #eb372a;\n",
       "  color: #f1f1f1;\n",
       "}\n",
       "</style>\n",
       "<table id=\"T_922b9\">\n",
       "  <thead>\n",
       "    <tr>\n",
       "      <th class=\"blank level0\" >&nbsp;</th>\n",
       "      <th id=\"T_922b9_level0_col0\" class=\"col_heading level0 col0\" >null_values</th>\n",
       "      <th id=\"T_922b9_level0_col1\" class=\"col_heading level0 col1\" >unique_</th>\n",
       "    </tr>\n",
       "  </thead>\n",
       "  <tbody>\n",
       "    <tr>\n",
       "      <th id=\"T_922b9_level0_row0\" class=\"row_heading level0 row0\" >RowNumber</th>\n",
       "      <td id=\"T_922b9_row0_col0\" class=\"data row0 col0\" >0</td>\n",
       "      <td id=\"T_922b9_row0_col1\" class=\"data row0 col1\" >10000</td>\n",
       "    </tr>\n",
       "    <tr>\n",
       "      <th id=\"T_922b9_level0_row1\" class=\"row_heading level0 row1\" >CustomerId</th>\n",
       "      <td id=\"T_922b9_row1_col0\" class=\"data row1 col0\" >0</td>\n",
       "      <td id=\"T_922b9_row1_col1\" class=\"data row1 col1\" >10000</td>\n",
       "    </tr>\n",
       "    <tr>\n",
       "      <th id=\"T_922b9_level0_row2\" class=\"row_heading level0 row2\" >Surname</th>\n",
       "      <td id=\"T_922b9_row2_col0\" class=\"data row2 col0\" >0</td>\n",
       "      <td id=\"T_922b9_row2_col1\" class=\"data row2 col1\" >2932</td>\n",
       "    </tr>\n",
       "    <tr>\n",
       "      <th id=\"T_922b9_level0_row3\" class=\"row_heading level0 row3\" >CreditScore</th>\n",
       "      <td id=\"T_922b9_row3_col0\" class=\"data row3 col0\" >0</td>\n",
       "      <td id=\"T_922b9_row3_col1\" class=\"data row3 col1\" >460</td>\n",
       "    </tr>\n",
       "    <tr>\n",
       "      <th id=\"T_922b9_level0_row4\" class=\"row_heading level0 row4\" >Geography</th>\n",
       "      <td id=\"T_922b9_row4_col0\" class=\"data row4 col0\" >0</td>\n",
       "      <td id=\"T_922b9_row4_col1\" class=\"data row4 col1\" >3</td>\n",
       "    </tr>\n",
       "    <tr>\n",
       "      <th id=\"T_922b9_level0_row5\" class=\"row_heading level0 row5\" >Gender</th>\n",
       "      <td id=\"T_922b9_row5_col0\" class=\"data row5 col0\" >0</td>\n",
       "      <td id=\"T_922b9_row5_col1\" class=\"data row5 col1\" >2</td>\n",
       "    </tr>\n",
       "    <tr>\n",
       "      <th id=\"T_922b9_level0_row6\" class=\"row_heading level0 row6\" >Age</th>\n",
       "      <td id=\"T_922b9_row6_col0\" class=\"data row6 col0\" >0</td>\n",
       "      <td id=\"T_922b9_row6_col1\" class=\"data row6 col1\" >70</td>\n",
       "    </tr>\n",
       "    <tr>\n",
       "      <th id=\"T_922b9_level0_row7\" class=\"row_heading level0 row7\" >Tenure</th>\n",
       "      <td id=\"T_922b9_row7_col0\" class=\"data row7 col0\" >0</td>\n",
       "      <td id=\"T_922b9_row7_col1\" class=\"data row7 col1\" >11</td>\n",
       "    </tr>\n",
       "    <tr>\n",
       "      <th id=\"T_922b9_level0_row8\" class=\"row_heading level0 row8\" >Balance</th>\n",
       "      <td id=\"T_922b9_row8_col0\" class=\"data row8 col0\" >0</td>\n",
       "      <td id=\"T_922b9_row8_col1\" class=\"data row8 col1\" >6382</td>\n",
       "    </tr>\n",
       "    <tr>\n",
       "      <th id=\"T_922b9_level0_row9\" class=\"row_heading level0 row9\" >NumOfProducts</th>\n",
       "      <td id=\"T_922b9_row9_col0\" class=\"data row9 col0\" >0</td>\n",
       "      <td id=\"T_922b9_row9_col1\" class=\"data row9 col1\" >4</td>\n",
       "    </tr>\n",
       "    <tr>\n",
       "      <th id=\"T_922b9_level0_row10\" class=\"row_heading level0 row10\" >HasCrCard</th>\n",
       "      <td id=\"T_922b9_row10_col0\" class=\"data row10 col0\" >0</td>\n",
       "      <td id=\"T_922b9_row10_col1\" class=\"data row10 col1\" >2</td>\n",
       "    </tr>\n",
       "    <tr>\n",
       "      <th id=\"T_922b9_level0_row11\" class=\"row_heading level0 row11\" >IsActiveMember</th>\n",
       "      <td id=\"T_922b9_row11_col0\" class=\"data row11 col0\" >0</td>\n",
       "      <td id=\"T_922b9_row11_col1\" class=\"data row11 col1\" >2</td>\n",
       "    </tr>\n",
       "    <tr>\n",
       "      <th id=\"T_922b9_level0_row12\" class=\"row_heading level0 row12\" >EstimatedSalary</th>\n",
       "      <td id=\"T_922b9_row12_col0\" class=\"data row12 col0\" >0</td>\n",
       "      <td id=\"T_922b9_row12_col1\" class=\"data row12 col1\" >9999</td>\n",
       "    </tr>\n",
       "    <tr>\n",
       "      <th id=\"T_922b9_level0_row13\" class=\"row_heading level0 row13\" >Exited</th>\n",
       "      <td id=\"T_922b9_row13_col0\" class=\"data row13 col0\" >0</td>\n",
       "      <td id=\"T_922b9_row13_col1\" class=\"data row13 col1\" >2</td>\n",
       "    </tr>\n",
       "  </tbody>\n",
       "</table>\n"
      ],
      "text/plain": [
       "<pandas.io.formats.style.Styler at 0x220d5168b50>"
      ]
     },
     "execution_count": 25,
     "metadata": {},
     "output_type": "execute_result"
    }
   ],
   "source": [
    "def describe_(df):\n",
    "    dict_=pd.DataFrame()\n",
    "    dict_['null_values']=df.isna().sum()\n",
    "    dict_['unique_']=df.nunique().values  #no of unique values/categories for each feature\n",
    "    \n",
    "    return dict_\n",
    "describe_(df).style.background_gradient(cmap='Reds')"
   ]
  },
  {
   "cell_type": "code",
   "execution_count": 26,
   "metadata": {},
   "outputs": [],
   "source": [
    "df.drop(['CustomerId','RowNumber','Surname'],axis=1,inplace=True)"
   ]
  },
  {
   "cell_type": "code",
   "execution_count": 27,
   "metadata": {},
   "outputs": [
    {
     "data": {
      "text/html": [
       "<div>\n",
       "<style scoped>\n",
       "    .dataframe tbody tr th:only-of-type {\n",
       "        vertical-align: middle;\n",
       "    }\n",
       "\n",
       "    .dataframe tbody tr th {\n",
       "        vertical-align: top;\n",
       "    }\n",
       "\n",
       "    .dataframe thead th {\n",
       "        text-align: right;\n",
       "    }\n",
       "</style>\n",
       "<table border=\"1\" class=\"dataframe\">\n",
       "  <thead>\n",
       "    <tr style=\"text-align: right;\">\n",
       "      <th></th>\n",
       "      <th>CreditScore</th>\n",
       "      <th>Geography</th>\n",
       "      <th>Gender</th>\n",
       "      <th>Age</th>\n",
       "      <th>Tenure</th>\n",
       "      <th>Balance</th>\n",
       "      <th>NumOfProducts</th>\n",
       "      <th>HasCrCard</th>\n",
       "      <th>IsActiveMember</th>\n",
       "      <th>EstimatedSalary</th>\n",
       "      <th>Exited</th>\n",
       "    </tr>\n",
       "  </thead>\n",
       "  <tbody>\n",
       "    <tr>\n",
       "      <th>0</th>\n",
       "      <td>619</td>\n",
       "      <td>France</td>\n",
       "      <td>Female</td>\n",
       "      <td>42</td>\n",
       "      <td>2</td>\n",
       "      <td>0.00</td>\n",
       "      <td>1</td>\n",
       "      <td>1</td>\n",
       "      <td>1</td>\n",
       "      <td>101348.88</td>\n",
       "      <td>1</td>\n",
       "    </tr>\n",
       "    <tr>\n",
       "      <th>1</th>\n",
       "      <td>608</td>\n",
       "      <td>Spain</td>\n",
       "      <td>Female</td>\n",
       "      <td>41</td>\n",
       "      <td>1</td>\n",
       "      <td>83807.86</td>\n",
       "      <td>1</td>\n",
       "      <td>0</td>\n",
       "      <td>1</td>\n",
       "      <td>112542.58</td>\n",
       "      <td>0</td>\n",
       "    </tr>\n",
       "    <tr>\n",
       "      <th>2</th>\n",
       "      <td>502</td>\n",
       "      <td>France</td>\n",
       "      <td>Female</td>\n",
       "      <td>42</td>\n",
       "      <td>8</td>\n",
       "      <td>159660.80</td>\n",
       "      <td>3</td>\n",
       "      <td>1</td>\n",
       "      <td>0</td>\n",
       "      <td>113931.57</td>\n",
       "      <td>1</td>\n",
       "    </tr>\n",
       "    <tr>\n",
       "      <th>3</th>\n",
       "      <td>699</td>\n",
       "      <td>France</td>\n",
       "      <td>Female</td>\n",
       "      <td>39</td>\n",
       "      <td>1</td>\n",
       "      <td>0.00</td>\n",
       "      <td>2</td>\n",
       "      <td>0</td>\n",
       "      <td>0</td>\n",
       "      <td>93826.63</td>\n",
       "      <td>0</td>\n",
       "    </tr>\n",
       "    <tr>\n",
       "      <th>4</th>\n",
       "      <td>850</td>\n",
       "      <td>Spain</td>\n",
       "      <td>Female</td>\n",
       "      <td>43</td>\n",
       "      <td>2</td>\n",
       "      <td>125510.82</td>\n",
       "      <td>1</td>\n",
       "      <td>1</td>\n",
       "      <td>1</td>\n",
       "      <td>79084.10</td>\n",
       "      <td>0</td>\n",
       "    </tr>\n",
       "  </tbody>\n",
       "</table>\n",
       "</div>"
      ],
      "text/plain": [
       "   CreditScore Geography  Gender  Age  Tenure    Balance  NumOfProducts  \\\n",
       "0          619    France  Female   42       2       0.00              1   \n",
       "1          608     Spain  Female   41       1   83807.86              1   \n",
       "2          502    France  Female   42       8  159660.80              3   \n",
       "3          699    France  Female   39       1       0.00              2   \n",
       "4          850     Spain  Female   43       2  125510.82              1   \n",
       "\n",
       "   HasCrCard  IsActiveMember  EstimatedSalary  Exited  \n",
       "0          1               1        101348.88       1  \n",
       "1          0               1        112542.58       0  \n",
       "2          1               0        113931.57       1  \n",
       "3          0               0         93826.63       0  \n",
       "4          1               1         79084.10       0  "
      ]
     },
     "execution_count": 27,
     "metadata": {},
     "output_type": "execute_result"
    }
   ],
   "source": [
    "df.head()"
   ]
  },
  {
   "cell_type": "code",
   "execution_count": 28,
   "metadata": {},
   "outputs": [
    {
     "data": {
      "text/html": [
       "<style type=\"text/css\">\n",
       "#T_c473f_row0_col0, #T_c473f_row0_col1, #T_c473f_row0_col2, #T_c473f_row0_col4, #T_c473f_row0_col5, #T_c473f_row0_col6, #T_c473f_row0_col8, #T_c473f_row7_col3, #T_c473f_row7_col7 {\n",
       "  background-color: #67000d;\n",
       "  color: #f1f1f1;\n",
       "}\n",
       "#T_c473f_row0_col3 {\n",
       "  background-color: #ffeee7;\n",
       "  color: #000000;\n",
       "}\n",
       "#T_c473f_row0_col7, #T_c473f_row4_col0 {\n",
       "  background-color: #ffede5;\n",
       "  color: #000000;\n",
       "}\n",
       "#T_c473f_row1_col0, #T_c473f_row5_col0 {\n",
       "  background-color: #ffece3;\n",
       "  color: #000000;\n",
       "}\n",
       "#T_c473f_row1_col1, #T_c473f_row1_col2, #T_c473f_row1_col4, #T_c473f_row1_col5, #T_c473f_row1_col6, #T_c473f_row1_col8, #T_c473f_row2_col0, #T_c473f_row2_col1, #T_c473f_row2_col2, #T_c473f_row2_col4, #T_c473f_row2_col5, #T_c473f_row2_col6, #T_c473f_row2_col8, #T_c473f_row3_col1, #T_c473f_row3_col2, #T_c473f_row3_col3, #T_c473f_row3_col4, #T_c473f_row3_col5, #T_c473f_row3_col6, #T_c473f_row3_col7, #T_c473f_row3_col8, #T_c473f_row4_col1, #T_c473f_row4_col2, #T_c473f_row4_col3, #T_c473f_row4_col4, #T_c473f_row4_col5, #T_c473f_row4_col6, #T_c473f_row4_col8, #T_c473f_row5_col1, #T_c473f_row5_col2, #T_c473f_row5_col4, #T_c473f_row5_col5, #T_c473f_row5_col6, #T_c473f_row5_col8, #T_c473f_row6_col1, #T_c473f_row6_col2, #T_c473f_row6_col4, #T_c473f_row6_col5, #T_c473f_row6_col6, #T_c473f_row6_col8, #T_c473f_row7_col2, #T_c473f_row7_col4, #T_c473f_row7_col5, #T_c473f_row7_col6, #T_c473f_row7_col8 {\n",
       "  background-color: #fff5f0;\n",
       "  color: #000000;\n",
       "}\n",
       "#T_c473f_row1_col3 {\n",
       "  background-color: #fca98c;\n",
       "  color: #000000;\n",
       "}\n",
       "#T_c473f_row1_col7, #T_c473f_row5_col7 {\n",
       "  background-color: #fb694a;\n",
       "  color: #f1f1f1;\n",
       "}\n",
       "#T_c473f_row2_col3 {\n",
       "  background-color: #fcbca2;\n",
       "  color: #000000;\n",
       "}\n",
       "#T_c473f_row2_col7 {\n",
       "  background-color: #fcaf93;\n",
       "  color: #000000;\n",
       "}\n",
       "#T_c473f_row3_col0 {\n",
       "  background-color: #fff1ea;\n",
       "  color: #000000;\n",
       "}\n",
       "#T_c473f_row4_col7 {\n",
       "  background-color: #fcb99f;\n",
       "  color: #000000;\n",
       "}\n",
       "#T_c473f_row5_col3 {\n",
       "  background-color: #fc8e6e;\n",
       "  color: #000000;\n",
       "}\n",
       "#T_c473f_row6_col0 {\n",
       "  background-color: #feeae1;\n",
       "  color: #000000;\n",
       "}\n",
       "#T_c473f_row6_col3 {\n",
       "  background-color: #fa6648;\n",
       "  color: #f1f1f1;\n",
       "}\n",
       "#T_c473f_row6_col7 {\n",
       "  background-color: #cb181d;\n",
       "  color: #f1f1f1;\n",
       "}\n",
       "#T_c473f_row7_col0 {\n",
       "  background-color: #fee8de;\n",
       "  color: #000000;\n",
       "}\n",
       "#T_c473f_row7_col1 {\n",
       "  background-color: #fff4ee;\n",
       "  color: #000000;\n",
       "}\n",
       "</style>\n",
       "<table id=\"T_c473f\">\n",
       "  <thead>\n",
       "    <tr>\n",
       "      <th class=\"blank level0\" >&nbsp;</th>\n",
       "      <th id=\"T_c473f_level0_col0\" class=\"col_heading level0 col0\" >CreditScore</th>\n",
       "      <th id=\"T_c473f_level0_col1\" class=\"col_heading level0 col1\" >Age</th>\n",
       "      <th id=\"T_c473f_level0_col2\" class=\"col_heading level0 col2\" >Tenure</th>\n",
       "      <th id=\"T_c473f_level0_col3\" class=\"col_heading level0 col3\" >Balance</th>\n",
       "      <th id=\"T_c473f_level0_col4\" class=\"col_heading level0 col4\" >NumOfProducts</th>\n",
       "      <th id=\"T_c473f_level0_col5\" class=\"col_heading level0 col5\" >HasCrCard</th>\n",
       "      <th id=\"T_c473f_level0_col6\" class=\"col_heading level0 col6\" >IsActiveMember</th>\n",
       "      <th id=\"T_c473f_level0_col7\" class=\"col_heading level0 col7\" >EstimatedSalary</th>\n",
       "      <th id=\"T_c473f_level0_col8\" class=\"col_heading level0 col8\" >Exited</th>\n",
       "    </tr>\n",
       "  </thead>\n",
       "  <tbody>\n",
       "    <tr>\n",
       "      <th id=\"T_c473f_level0_row0\" class=\"row_heading level0 row0\" >count</th>\n",
       "      <td id=\"T_c473f_row0_col0\" class=\"data row0 col0\" >10000.000000</td>\n",
       "      <td id=\"T_c473f_row0_col1\" class=\"data row0 col1\" >10000.000000</td>\n",
       "      <td id=\"T_c473f_row0_col2\" class=\"data row0 col2\" >10000.000000</td>\n",
       "      <td id=\"T_c473f_row0_col3\" class=\"data row0 col3\" >10000.000000</td>\n",
       "      <td id=\"T_c473f_row0_col4\" class=\"data row0 col4\" >10000.000000</td>\n",
       "      <td id=\"T_c473f_row0_col5\" class=\"data row0 col5\" >10000.000000</td>\n",
       "      <td id=\"T_c473f_row0_col6\" class=\"data row0 col6\" >10000.000000</td>\n",
       "      <td id=\"T_c473f_row0_col7\" class=\"data row0 col7\" >10000.000000</td>\n",
       "      <td id=\"T_c473f_row0_col8\" class=\"data row0 col8\" >10000.000000</td>\n",
       "    </tr>\n",
       "    <tr>\n",
       "      <th id=\"T_c473f_level0_row1\" class=\"row_heading level0 row1\" >mean</th>\n",
       "      <td id=\"T_c473f_row1_col0\" class=\"data row1 col0\" >650.528800</td>\n",
       "      <td id=\"T_c473f_row1_col1\" class=\"data row1 col1\" >38.921800</td>\n",
       "      <td id=\"T_c473f_row1_col2\" class=\"data row1 col2\" >5.012800</td>\n",
       "      <td id=\"T_c473f_row1_col3\" class=\"data row1 col3\" >76485.889288</td>\n",
       "      <td id=\"T_c473f_row1_col4\" class=\"data row1 col4\" >1.530200</td>\n",
       "      <td id=\"T_c473f_row1_col5\" class=\"data row1 col5\" >0.705500</td>\n",
       "      <td id=\"T_c473f_row1_col6\" class=\"data row1 col6\" >0.515100</td>\n",
       "      <td id=\"T_c473f_row1_col7\" class=\"data row1 col7\" >100090.239881</td>\n",
       "      <td id=\"T_c473f_row1_col8\" class=\"data row1 col8\" >0.203700</td>\n",
       "    </tr>\n",
       "    <tr>\n",
       "      <th id=\"T_c473f_level0_row2\" class=\"row_heading level0 row2\" >std</th>\n",
       "      <td id=\"T_c473f_row2_col0\" class=\"data row2 col0\" >96.653299</td>\n",
       "      <td id=\"T_c473f_row2_col1\" class=\"data row2 col1\" >10.487806</td>\n",
       "      <td id=\"T_c473f_row2_col2\" class=\"data row2 col2\" >2.892174</td>\n",
       "      <td id=\"T_c473f_row2_col3\" class=\"data row2 col3\" >62397.405202</td>\n",
       "      <td id=\"T_c473f_row2_col4\" class=\"data row2 col4\" >0.581654</td>\n",
       "      <td id=\"T_c473f_row2_col5\" class=\"data row2 col5\" >0.455840</td>\n",
       "      <td id=\"T_c473f_row2_col6\" class=\"data row2 col6\" >0.499797</td>\n",
       "      <td id=\"T_c473f_row2_col7\" class=\"data row2 col7\" >57510.492818</td>\n",
       "      <td id=\"T_c473f_row2_col8\" class=\"data row2 col8\" >0.402769</td>\n",
       "    </tr>\n",
       "    <tr>\n",
       "      <th id=\"T_c473f_level0_row3\" class=\"row_heading level0 row3\" >min</th>\n",
       "      <td id=\"T_c473f_row3_col0\" class=\"data row3 col0\" >350.000000</td>\n",
       "      <td id=\"T_c473f_row3_col1\" class=\"data row3 col1\" >18.000000</td>\n",
       "      <td id=\"T_c473f_row3_col2\" class=\"data row3 col2\" >0.000000</td>\n",
       "      <td id=\"T_c473f_row3_col3\" class=\"data row3 col3\" >0.000000</td>\n",
       "      <td id=\"T_c473f_row3_col4\" class=\"data row3 col4\" >1.000000</td>\n",
       "      <td id=\"T_c473f_row3_col5\" class=\"data row3 col5\" >0.000000</td>\n",
       "      <td id=\"T_c473f_row3_col6\" class=\"data row3 col6\" >0.000000</td>\n",
       "      <td id=\"T_c473f_row3_col7\" class=\"data row3 col7\" >11.580000</td>\n",
       "      <td id=\"T_c473f_row3_col8\" class=\"data row3 col8\" >0.000000</td>\n",
       "    </tr>\n",
       "    <tr>\n",
       "      <th id=\"T_c473f_level0_row4\" class=\"row_heading level0 row4\" >25%</th>\n",
       "      <td id=\"T_c473f_row4_col0\" class=\"data row4 col0\" >584.000000</td>\n",
       "      <td id=\"T_c473f_row4_col1\" class=\"data row4 col1\" >32.000000</td>\n",
       "      <td id=\"T_c473f_row4_col2\" class=\"data row4 col2\" >3.000000</td>\n",
       "      <td id=\"T_c473f_row4_col3\" class=\"data row4 col3\" >0.000000</td>\n",
       "      <td id=\"T_c473f_row4_col4\" class=\"data row4 col4\" >1.000000</td>\n",
       "      <td id=\"T_c473f_row4_col5\" class=\"data row4 col5\" >0.000000</td>\n",
       "      <td id=\"T_c473f_row4_col6\" class=\"data row4 col6\" >0.000000</td>\n",
       "      <td id=\"T_c473f_row4_col7\" class=\"data row4 col7\" >51002.110000</td>\n",
       "      <td id=\"T_c473f_row4_col8\" class=\"data row4 col8\" >0.000000</td>\n",
       "    </tr>\n",
       "    <tr>\n",
       "      <th id=\"T_c473f_level0_row5\" class=\"row_heading level0 row5\" >50%</th>\n",
       "      <td id=\"T_c473f_row5_col0\" class=\"data row5 col0\" >652.000000</td>\n",
       "      <td id=\"T_c473f_row5_col1\" class=\"data row5 col1\" >37.000000</td>\n",
       "      <td id=\"T_c473f_row5_col2\" class=\"data row5 col2\" >5.000000</td>\n",
       "      <td id=\"T_c473f_row5_col3\" class=\"data row5 col3\" >97198.540000</td>\n",
       "      <td id=\"T_c473f_row5_col4\" class=\"data row5 col4\" >1.000000</td>\n",
       "      <td id=\"T_c473f_row5_col5\" class=\"data row5 col5\" >1.000000</td>\n",
       "      <td id=\"T_c473f_row5_col6\" class=\"data row5 col6\" >1.000000</td>\n",
       "      <td id=\"T_c473f_row5_col7\" class=\"data row5 col7\" >100193.915000</td>\n",
       "      <td id=\"T_c473f_row5_col8\" class=\"data row5 col8\" >0.000000</td>\n",
       "    </tr>\n",
       "    <tr>\n",
       "      <th id=\"T_c473f_level0_row6\" class=\"row_heading level0 row6\" >75%</th>\n",
       "      <td id=\"T_c473f_row6_col0\" class=\"data row6 col0\" >718.000000</td>\n",
       "      <td id=\"T_c473f_row6_col1\" class=\"data row6 col1\" >44.000000</td>\n",
       "      <td id=\"T_c473f_row6_col2\" class=\"data row6 col2\" >7.000000</td>\n",
       "      <td id=\"T_c473f_row6_col3\" class=\"data row6 col3\" >127644.240000</td>\n",
       "      <td id=\"T_c473f_row6_col4\" class=\"data row6 col4\" >2.000000</td>\n",
       "      <td id=\"T_c473f_row6_col5\" class=\"data row6 col5\" >1.000000</td>\n",
       "      <td id=\"T_c473f_row6_col6\" class=\"data row6 col6\" >1.000000</td>\n",
       "      <td id=\"T_c473f_row6_col7\" class=\"data row6 col7\" >149388.247500</td>\n",
       "      <td id=\"T_c473f_row6_col8\" class=\"data row6 col8\" >0.000000</td>\n",
       "    </tr>\n",
       "    <tr>\n",
       "      <th id=\"T_c473f_level0_row7\" class=\"row_heading level0 row7\" >max</th>\n",
       "      <td id=\"T_c473f_row7_col0\" class=\"data row7 col0\" >850.000000</td>\n",
       "      <td id=\"T_c473f_row7_col1\" class=\"data row7 col1\" >92.000000</td>\n",
       "      <td id=\"T_c473f_row7_col2\" class=\"data row7 col2\" >10.000000</td>\n",
       "      <td id=\"T_c473f_row7_col3\" class=\"data row7 col3\" >250898.090000</td>\n",
       "      <td id=\"T_c473f_row7_col4\" class=\"data row7 col4\" >4.000000</td>\n",
       "      <td id=\"T_c473f_row7_col5\" class=\"data row7 col5\" >1.000000</td>\n",
       "      <td id=\"T_c473f_row7_col6\" class=\"data row7 col6\" >1.000000</td>\n",
       "      <td id=\"T_c473f_row7_col7\" class=\"data row7 col7\" >199992.480000</td>\n",
       "      <td id=\"T_c473f_row7_col8\" class=\"data row7 col8\" >1.000000</td>\n",
       "    </tr>\n",
       "  </tbody>\n",
       "</table>\n"
      ],
      "text/plain": [
       "<pandas.io.formats.style.Styler at 0x220d10638d0>"
      ]
     },
     "execution_count": 28,
     "metadata": {},
     "output_type": "execute_result"
    }
   ],
   "source": [
    "df.describe().style.background_gradient(cmap='Reds')"
   ]
  },
  {
   "cell_type": "markdown",
   "metadata": {},
   "source": [
    "**Decription Of Dataset:**\n",
    "* Dataset contain about 10000 entries, with 14 different features.\n",
    "* No null valuesb hare exist.\n",
    "* We have to drop RowNumber , CustomerId and Surname."
   ]
  },
  {
   "cell_type": "markdown",
   "metadata": {},
   "source": [
    "**EDA(Exploratory Data Analysis)**"
   ]
  },
  {
   "cell_type": "markdown",
   "metadata": {},
   "source": [
    "*Data Visualization:*"
   ]
  },
  {
   "cell_type": "code",
   "execution_count": 29,
   "metadata": {},
   "outputs": [
    {
     "data": {
      "text/plain": [
       "<Axes: xlabel='Exited', ylabel='count'>"
      ]
     },
     "execution_count": 29,
     "metadata": {},
     "output_type": "execute_result"
    },
    {
     "data": {
      "image/png": "[encoded data removed]",
      "text/plain": [
       "<Figure size 700x500 with 1 Axes>"
      ]
     },
     "metadata": {},
     "output_type": "display_data"
    }
   ],
   "source": [
    "plt.figure(figsize=(7,5))\n",
    "sns.countplot(x='Exited',data=df,palette='rainbow')"
   ]
  },
  {
   "cell_type": "markdown",
   "metadata": {},
   "source": [
    "* The dataset is imbalanced , to deal with it we have to try the sampling technique or appopriate evaluation matrix."
   ]
  },
  {
   "cell_type": "code",
   "execution_count": 36,
   "metadata": {},
   "outputs": [
    {
     "data": {
      "text/plain": [
       "<Axes: xlabel='Gender', ylabel='count'>"
      ]
     },
     "execution_count": 36,
     "metadata": {},
     "output_type": "execute_result"
    },
    {
     "data": {
      "image/png": "[encoded data removed]",
      "text/plain": [
       "<Figure size 900x700 with 2 Axes>"
      ]
     },
     "metadata": {},
     "output_type": "display_data"
    }
   ],
   "source": [
    "fig = plt.figure(figsize=(9,7))\n",
    "ax=[None for i in range(2)]\n",
    "ax[0]= plt.subplot2grid((1,2),(0,0))\n",
    "ax[1]=plt.subplot2grid((1,2),(0,1))\n",
    "\n",
    "sns.countplot(x='Geography',data=df,palette='rainbow',ax=ax[0])\n",
    "sns.countplot(x='Gender',data=df,palette='rainbow',ax=ax[1])"
   ]
  },
  {
   "cell_type": "code",
   "execution_count": 40,
   "metadata": {},
   "outputs": [],
   "source": [
    "numerical_features=[feature for feature in df.columns if df[feature].dtype!='object']\n",
    "df_num=df[numerical_features]"
   ]
  },
  {
   "cell_type": "code",
   "execution_count": 42,
   "metadata": {},
   "outputs": [
    {
     "data": {
      "text/plain": [
       "<Axes: >"
      ]
     },
     "execution_count": 42,
     "metadata": {},
     "output_type": "execute_result"
    },
    {
     "data": {
      "image/png": "[encoded data removed]",
      "text/plain": [
       "<Figure size 1200x800 with 2 Axes>"
      ]
     },
     "metadata": {},
     "output_type": "display_data"
    }
   ],
   "source": [
    "plt.figure(figsize=(12,8))\n",
    "corr=df_num.corr()\n",
    "sns.heatmap(corr,cmap=plt.cm.RdBu_r,annot=True,annot_kws={'size':10})"
   ]
  },
  {
   "cell_type": "markdown",
   "metadata": {},
   "source": [
    "*Data Preprocessing:*"
   ]
  },
  {
   "cell_type": "code",
   "execution_count": null,
   "metadata": {},
   "outputs": [],
   "source": [
    "df_num=df[numerical_features]\n",
    "df_cat=df[['Geography','Gender']]"
   ]
  },
  {
   "cell_type": "code",
   "execution_count": null,
   "metadata": {},
   "outputs": [],
   "source": [
    "scaler=StandardScaler()\n",
    "df_num=pd.DataFrame(scaler.fit_transform(df_num),columns=df_num.columns)"
   ]
  },
  {
   "cell_type": "code",
   "execution_count": null,
   "metadata": {},
   "outputs": [],
   "source": [
    "encoder=OneHotEncoder()\n",
    "df_cat=pd.DataFrame(encoder.fit_transform(df_cat).toarray())\n",
    "df_cat.columns=df_cat.columns.astype(str)"
   ]
  },
  {
   "cell_type": "code",
   "execution_count": null,
   "metadata": {},
   "outputs": [],
   "source": [
    "#concating categorical and numerical features\n",
    "df_=pd.concat([df_num,df_cat],axis=1)"
   ]
  },
  {
   "cell_type": "code",
   "execution_count": null,
   "metadata": {},
   "outputs": [],
   "source": [
    "y=df['Exited']"
   ]
  },
  {
   "cell_type": "markdown",
   "metadata": {},
   "source": [
    "**Model training:**"
   ]
  },
  {
   "cell_type": "markdown",
   "metadata": {},
   "source": [
    "*Random Forest Classifier:*"
   ]
  },
  {
   "cell_type": "code",
   "execution_count": 56,
   "metadata": {},
   "outputs": [],
   "source": [
    "#random forest\n",
    "forest=RandomForestClassifier()\n",
    "param_grid = { \n",
    "    'n_estimators': [100,200, 500],\n",
    "    'max_features': ['auto', 'sqrt', 'log2'],\n",
    "    'max_depth' : [4,5,6,7,8],\n",
    "    'criterion' :['gini', 'entropy']\n",
    "}\n",
    "grid_search=RandomizedSearchCV(estimator=forest,param_distributions=param_grid,cv=3,scoring='roc_auc',n_iter=10,verbose=True)"
   ]
  },
  {
   "cell_type": "code",
   "execution_count": 57,
   "metadata": {},
   "outputs": [
    {
     "name": "stdout",
     "output_type": "stream",
     "text": [
      "Fitting 3 folds for each of 10 candidates, totalling 30 fits\n"
     ]
    },
    {
     "data": {
      "text/html": [
       "<style>#sk-container-id-1 {color: black;}#sk-container-id-1 pre{padding: 0;}#sk-container-id-1 div.sk-toggleable {background-color: white;}#sk-container-id-1 label.sk-toggleable__label {cursor: pointer;display: block;width: 100%;margin-bottom: 0;padding: 0.3em;box-sizing: border-box;text-align: center;}#sk-container-id-1 label.sk-toggleable__label-arrow:before {content: \"▸\";float: left;margin-right: 0.25em;color: #696969;}#sk-container-id-1 label.sk-toggleable__label-arrow:hover:before {color: black;}#sk-container-id-1 div.sk-estimator:hover label.sk-toggleable__label-arrow:before {color: black;}#sk-container-id-1 div.sk-toggleable__content {max-height: 0;max-width: 0;overflow: hidden;text-align: left;background-color: #f0f8ff;}#sk-container-id-1 div.sk-toggleable__content pre {margin: 0.2em;color: black;border-radius: 0.25em;background-color: #f0f8ff;}#sk-container-id-1 input.sk-toggleable__control:checked~div.sk-toggleable__content {max-height: 200px;max-width: 100%;overflow: auto;}#sk-container-id-1 input.sk-toggleable__control:checked~label.sk-toggleable__label-arrow:before {content: \"▾\";}#sk-container-id-1 div.sk-estimator input.sk-toggleable__control:checked~label.sk-toggleable__label {background-color: #d4ebff;}#sk-container-id-1 div.sk-label input.sk-toggleable__control:checked~label.sk-toggleable__label {background-color: #d4ebff;}#sk-container-id-1 input.sk-hidden--visually {border: 0;clip: rect(1px 1px 1px 1px);clip: rect(1px, 1px, 1px, 1px);height: 1px;margin: -1px;overflow: hidden;padding: 0;position: absolute;width: 1px;}#sk-container-id-1 div.sk-estimator {font-family: monospace;background-color: #f0f8ff;border: 1px dotted black;border-radius: 0.25em;box-sizing: border-box;margin-bottom: 0.5em;}#sk-container-id-1 div.sk-estimator:hover {background-color: #d4ebff;}#sk-container-id-1 div.sk-parallel-item::after {content: \"\";width: 100%;border-bottom: 1px solid gray;flex-grow: 1;}#sk-container-id-1 div.sk-label:hover label.sk-toggleable__label {background-color: #d4ebff;}#sk-container-id-1 div.sk-serial::before {content: \"\";position: absolute;border-left: 1px solid gray;box-sizing: border-box;top: 0;bottom: 0;left: 50%;z-index: 0;}#sk-container-id-1 div.sk-serial {display: flex;flex-direction: column;align-items: center;background-color: white;padding-right: 0.2em;padding-left: 0.2em;position: relative;}#sk-container-id-1 div.sk-item {position: relative;z-index: 1;}#sk-container-id-1 div.sk-parallel {display: flex;align-items: stretch;justify-content: center;background-color: white;position: relative;}#sk-container-id-1 div.sk-item::before, #sk-container-id-1 div.sk-parallel-item::before {content: \"\";position: absolute;border-left: 1px solid gray;box-sizing: border-box;top: 0;bottom: 0;left: 50%;z-index: -1;}#sk-container-id-1 div.sk-parallel-item {display: flex;flex-direction: column;z-index: 1;position: relative;background-color: white;}#sk-container-id-1 div.sk-parallel-item:first-child::after {align-self: flex-end;width: 50%;}#sk-container-id-1 div.sk-parallel-item:last-child::after {align-self: flex-start;width: 50%;}#sk-container-id-1 div.sk-parallel-item:only-child::after {width: 0;}#sk-container-id-1 div.sk-dashed-wrapped {border: 1px dashed gray;margin: 0 0.4em 0.5em 0.4em;box-sizing: border-box;padding-bottom: 0.4em;background-color: white;}#sk-container-id-1 div.sk-label label {font-family: monospace;font-weight: bold;display: inline-block;line-height: 1.2em;}#sk-container-id-1 div.sk-label-container {text-align: center;}#sk-container-id-1 div.sk-container {/* jupyter's `normalize.less` sets `[hidden] { display: none; }` but bootstrap.min.css set `[hidden] { display: none !important; }` so we also need the `!important` here to be able to override the default hidden behavior on the sphinx rendered scikit-learn.org. See: https://github.com/scikit-learn/scikit-learn/issues/21755 */display: inline-block !important;position: relative;}#sk-container-id-1 div.sk-text-repr-fallback {display: none;}</style><div id=\"sk-container-id-1\" class=\"sk-top-container\"><div class=\"sk-text-repr-fallback\"><pre>RandomizedSearchCV(cv=3, estimator=RandomForestClassifier(),\n",
       "                   param_distributions={&#x27;criterion&#x27;: [&#x27;gini&#x27;, &#x27;entropy&#x27;],\n",
       "                                        &#x27;max_depth&#x27;: [4, 5, 6, 7, 8],\n",
       "                                        &#x27;max_features&#x27;: [&#x27;auto&#x27;, &#x27;sqrt&#x27;,\n",
       "                                                         &#x27;log2&#x27;],\n",
       "                                        &#x27;n_estimators&#x27;: [100, 200, 500]},\n",
       "                   scoring=&#x27;roc_auc&#x27;, verbose=True)</pre><b>In a Jupyter environment, please rerun this cell to show the HTML representation or trust the notebook. <br />On GitHub, the HTML representation is unable to render, please try loading this page with nbviewer.org.</b></div><div class=\"sk-container\" hidden><div class=\"sk-item sk-dashed-wrapped\"><div class=\"sk-label-container\"><div class=\"sk-label sk-toggleable\"><input class=\"sk-toggleable__control sk-hidden--visually\" id=\"sk-estimator-id-1\" type=\"checkbox\" ><label for=\"sk-estimator-id-1\" class=\"sk-toggleable__label sk-toggleable__label-arrow\">RandomizedSearchCV</label><div class=\"sk-toggleable__content\"><pre>RandomizedSearchCV(cv=3, estimator=RandomForestClassifier(),\n",
       "                   param_distributions={&#x27;criterion&#x27;: [&#x27;gini&#x27;, &#x27;entropy&#x27;],\n",
       "                                        &#x27;max_depth&#x27;: [4, 5, 6, 7, 8],\n",
       "                                        &#x27;max_features&#x27;: [&#x27;auto&#x27;, &#x27;sqrt&#x27;,\n",
       "                                                         &#x27;log2&#x27;],\n",
       "                                        &#x27;n_estimators&#x27;: [100, 200, 500]},\n",
       "                   scoring=&#x27;roc_auc&#x27;, verbose=True)</pre></div></div></div><div class=\"sk-parallel\"><div class=\"sk-parallel-item\"><div class=\"sk-item\"><div class=\"sk-label-container\"><div class=\"sk-label sk-toggleable\"><input class=\"sk-toggleable__control sk-hidden--visually\" id=\"sk-estimator-id-2\" type=\"checkbox\" ><label for=\"sk-estimator-id-2\" class=\"sk-toggleable__label sk-toggleable__label-arrow\">estimator: RandomForestClassifier</label><div class=\"sk-toggleable__content\"><pre>RandomForestClassifier()</pre></div></div></div><div class=\"sk-serial\"><div class=\"sk-item\"><div class=\"sk-estimator sk-toggleable\"><input class=\"sk-toggleable__control sk-hidden--visually\" id=\"sk-estimator-id-3\" type=\"checkbox\" ><label for=\"sk-estimator-id-3\" class=\"sk-toggleable__label sk-toggleable__label-arrow\">RandomForestClassifier</label><div class=\"sk-toggleable__content\"><pre>RandomForestClassifier()</pre></div></div></div></div></div></div></div></div></div></div>"
      ],
      "text/plain": [
       "RandomizedSearchCV(cv=3, estimator=RandomForestClassifier(),\n",
       "                   param_distributions={'criterion': ['gini', 'entropy'],\n",
       "                                        'max_depth': [4, 5, 6, 7, 8],\n",
       "                                        'max_features': ['auto', 'sqrt',\n",
       "                                                         'log2'],\n",
       "                                        'n_estimators': [100, 200, 500]},\n",
       "                   scoring='roc_auc', verbose=True)"
      ]
     },
     "execution_count": 57,
     "metadata": {},
     "output_type": "execute_result"
    }
   ],
   "source": [
    "grid_search.fit(df_,y)"
   ]
  },
  {
   "cell_type": "code",
   "execution_count": 58,
   "metadata": {},
   "outputs": [
    {
     "name": "stdout",
     "output_type": "stream",
     "text": [
      "Mean value of roc_auc_score for RandonForest Classifier: 0.8608\n"
     ]
    }
   ],
   "source": [
    "forest = grid_search.best_estimator_\n",
    "scores_forest = cross_val_score(forest,df_,y,cv=5)\n",
    "print('Mean value of roc_auc_score for RandonForest Classifier: {}'.format(np.mean(scores_forest)))"
   ]
  },
  {
   "cell_type": "markdown",
   "metadata": {},
   "source": [
    "*Decision Tree classifier:*"
   ]
  },
  {
   "cell_type": "code",
   "execution_count": 59,
   "metadata": {},
   "outputs": [],
   "source": [
    "tree=DecisionTreeClassifier()\n",
    "param_grid={\n",
    "    'max_depth': [2, 3, 5, 10, 20],\n",
    "    'min_samples_leaf': [5, 10, 20, 50, 100],\n",
    "    'criterion': [\"gini\", \"entropy\"]\n",
    "}\n",
    "grid_search=RandomizedSearchCV(estimator=tree,param_distributions=param_grid,cv=5,scoring='roc_auc',n_iter=10,verbose=True)"
   ]
  },
  {
   "cell_type": "code",
   "execution_count": 60,
   "metadata": {},
   "outputs": [
    {
     "name": "stdout",
     "output_type": "stream",
     "text": [
      "Fitting 5 folds for each of 10 candidates, totalling 50 fits\n"
     ]
    },
    {
     "data": {
      "text/html": [
       "<style>#sk-container-id-2 {color: black;}#sk-container-id-2 pre{padding: 0;}#sk-container-id-2 div.sk-toggleable {background-color: white;}#sk-container-id-2 label.sk-toggleable__label {cursor: pointer;display: block;width: 100%;margin-bottom: 0;padding: 0.3em;box-sizing: border-box;text-align: center;}#sk-container-id-2 label.sk-toggleable__label-arrow:before {content: \"▸\";float: left;margin-right: 0.25em;color: #696969;}#sk-container-id-2 label.sk-toggleable__label-arrow:hover:before {color: black;}#sk-container-id-2 div.sk-estimator:hover label.sk-toggleable__label-arrow:before {color: black;}#sk-container-id-2 div.sk-toggleable__content {max-height: 0;max-width: 0;overflow: hidden;text-align: left;background-color: #f0f8ff;}#sk-container-id-2 div.sk-toggleable__content pre {margin: 0.2em;color: black;border-radius: 0.25em;background-color: #f0f8ff;}#sk-container-id-2 input.sk-toggleable__control:checked~div.sk-toggleable__content {max-height: 200px;max-width: 100%;overflow: auto;}#sk-container-id-2 input.sk-toggleable__control:checked~label.sk-toggleable__label-arrow:before {content: \"▾\";}#sk-container-id-2 div.sk-estimator input.sk-toggleable__control:checked~label.sk-toggleable__label {background-color: #d4ebff;}#sk-container-id-2 div.sk-label input.sk-toggleable__control:checked~label.sk-toggleable__label {background-color: #d4ebff;}#sk-container-id-2 input.sk-hidden--visually {border: 0;clip: rect(1px 1px 1px 1px);clip: rect(1px, 1px, 1px, 1px);height: 1px;margin: -1px;overflow: hidden;padding: 0;position: absolute;width: 1px;}#sk-container-id-2 div.sk-estimator {font-family: monospace;background-color: #f0f8ff;border: 1px dotted black;border-radius: 0.25em;box-sizing: border-box;margin-bottom: 0.5em;}#sk-container-id-2 div.sk-estimator:hover {background-color: #d4ebff;}#sk-container-id-2 div.sk-parallel-item::after {content: \"\";width: 100%;border-bottom: 1px solid gray;flex-grow: 1;}#sk-container-id-2 div.sk-label:hover label.sk-toggleable__label {background-color: #d4ebff;}#sk-container-id-2 div.sk-serial::before {content: \"\";position: absolute;border-left: 1px solid gray;box-sizing: border-box;top: 0;bottom: 0;left: 50%;z-index: 0;}#sk-container-id-2 div.sk-serial {display: flex;flex-direction: column;align-items: center;background-color: white;padding-right: 0.2em;padding-left: 0.2em;position: relative;}#sk-container-id-2 div.sk-item {position: relative;z-index: 1;}#sk-container-id-2 div.sk-parallel {display: flex;align-items: stretch;justify-content: center;background-color: white;position: relative;}#sk-container-id-2 div.sk-item::before, #sk-container-id-2 div.sk-parallel-item::before {content: \"\";position: absolute;border-left: 1px solid gray;box-sizing: border-box;top: 0;bottom: 0;left: 50%;z-index: -1;}#sk-container-id-2 div.sk-parallel-item {display: flex;flex-direction: column;z-index: 1;position: relative;background-color: white;}#sk-container-id-2 div.sk-parallel-item:first-child::after {align-self: flex-end;width: 50%;}#sk-container-id-2 div.sk-parallel-item:last-child::after {align-self: flex-start;width: 50%;}#sk-container-id-2 div.sk-parallel-item:only-child::after {width: 0;}#sk-container-id-2 div.sk-dashed-wrapped {border: 1px dashed gray;margin: 0 0.4em 0.5em 0.4em;box-sizing: border-box;padding-bottom: 0.4em;background-color: white;}#sk-container-id-2 div.sk-label label {font-family: monospace;font-weight: bold;display: inline-block;line-height: 1.2em;}#sk-container-id-2 div.sk-label-container {text-align: center;}#sk-container-id-2 div.sk-container {/* jupyter's `normalize.less` sets `[hidden] { display: none; }` but bootstrap.min.css set `[hidden] { display: none !important; }` so we also need the `!important` here to be able to override the default hidden behavior on the sphinx rendered scikit-learn.org. See: https://github.com/scikit-learn/scikit-learn/issues/21755 */display: inline-block !important;position: relative;}#sk-container-id-2 div.sk-text-repr-fallback {display: none;}</style><div id=\"sk-container-id-2\" class=\"sk-top-container\"><div class=\"sk-text-repr-fallback\"><pre>RandomizedSearchCV(cv=5, estimator=DecisionTreeClassifier(),\n",
       "                   param_distributions={&#x27;criterion&#x27;: [&#x27;gini&#x27;, &#x27;entropy&#x27;],\n",
       "                                        &#x27;max_depth&#x27;: [2, 3, 5, 10, 20],\n",
       "                                        &#x27;min_samples_leaf&#x27;: [5, 10, 20, 50,\n",
       "                                                             100]},\n",
       "                   scoring=&#x27;roc_auc&#x27;, verbose=True)</pre><b>In a Jupyter environment, please rerun this cell to show the HTML representation or trust the notebook. <br />On GitHub, the HTML representation is unable to render, please try loading this page with nbviewer.org.</b></div><div class=\"sk-container\" hidden><div class=\"sk-item sk-dashed-wrapped\"><div class=\"sk-label-container\"><div class=\"sk-label sk-toggleable\"><input class=\"sk-toggleable__control sk-hidden--visually\" id=\"sk-estimator-id-4\" type=\"checkbox\" ><label for=\"sk-estimator-id-4\" class=\"sk-toggleable__label sk-toggleable__label-arrow\">RandomizedSearchCV</label><div class=\"sk-toggleable__content\"><pre>RandomizedSearchCV(cv=5, estimator=DecisionTreeClassifier(),\n",
       "                   param_distributions={&#x27;criterion&#x27;: [&#x27;gini&#x27;, &#x27;entropy&#x27;],\n",
       "                                        &#x27;max_depth&#x27;: [2, 3, 5, 10, 20],\n",
       "                                        &#x27;min_samples_leaf&#x27;: [5, 10, 20, 50,\n",
       "                                                             100]},\n",
       "                   scoring=&#x27;roc_auc&#x27;, verbose=True)</pre></div></div></div><div class=\"sk-parallel\"><div class=\"sk-parallel-item\"><div class=\"sk-item\"><div class=\"sk-label-container\"><div class=\"sk-label sk-toggleable\"><input class=\"sk-toggleable__control sk-hidden--visually\" id=\"sk-estimator-id-5\" type=\"checkbox\" ><label for=\"sk-estimator-id-5\" class=\"sk-toggleable__label sk-toggleable__label-arrow\">estimator: DecisionTreeClassifier</label><div class=\"sk-toggleable__content\"><pre>DecisionTreeClassifier()</pre></div></div></div><div class=\"sk-serial\"><div class=\"sk-item\"><div class=\"sk-estimator sk-toggleable\"><input class=\"sk-toggleable__control sk-hidden--visually\" id=\"sk-estimator-id-6\" type=\"checkbox\" ><label for=\"sk-estimator-id-6\" class=\"sk-toggleable__label sk-toggleable__label-arrow\">DecisionTreeClassifier</label><div class=\"sk-toggleable__content\"><pre>DecisionTreeClassifier()</pre></div></div></div></div></div></div></div></div></div></div>"
      ],
      "text/plain": [
       "RandomizedSearchCV(cv=5, estimator=DecisionTreeClassifier(),\n",
       "                   param_distributions={'criterion': ['gini', 'entropy'],\n",
       "                                        'max_depth': [2, 3, 5, 10, 20],\n",
       "                                        'min_samples_leaf': [5, 10, 20, 50,\n",
       "                                                             100]},\n",
       "                   scoring='roc_auc', verbose=True)"
      ]
     },
     "execution_count": 60,
     "metadata": {},
     "output_type": "execute_result"
    }
   ],
   "source": [
    "grid_search.fit(df_,y)"
   ]
  },
  {
   "cell_type": "code",
   "execution_count": 61,
   "metadata": {},
   "outputs": [
    {
     "name": "stdout",
     "output_type": "stream",
     "text": [
      "Mean value of roc_auc_score for Dt Classifier:0.852\n"
     ]
    }
   ],
   "source": [
    "tree=grid_search.best_estimator_\n",
    "scores_tree=cross_val_score(tree,df_,y,cv=5)\n",
    "print('Mean value of roc_auc_score for Dt Classifier:{}'.format(np.mean(scores_tree)))"
   ]
  },
  {
   "cell_type": "markdown",
   "metadata": {},
   "source": [
    "*XGBoost:*"
   ]
  },
  {
   "cell_type": "code",
   "execution_count": 62,
   "metadata": {},
   "outputs": [],
   "source": [
    "xgb=XGBClassifier()\n",
    "param_grid={\n",
    "        'min_child_weight': [1, 5, 10],\n",
    "        'gamma': [0.5, 1, 1.5, 2, 5],\n",
    "        'subsample': [0.6, 0.8, 1.0],\n",
    "        'colsample_bytree': [0.6, 0.8, 1.0],\n",
    "        'max_depth': [3, 4, 5]\n",
    "        }\n",
    "grid_search=RandomizedSearchCV(estimator=xgb,param_distributions=param_grid,cv=3,scoring='roc_auc',n_iter=10,verbose=True)"
   ]
  },
  {
   "cell_type": "code",
   "execution_count": 63,
   "metadata": {},
   "outputs": [
    {
     "name": "stdout",
     "output_type": "stream",
     "text": [
      "Fitting 3 folds for each of 10 candidates, totalling 30 fits\n"
     ]
    },
    {
     "data": {
      "text/html": [
       "<style>#sk-container-id-3 {color: black;}#sk-container-id-3 pre{padding: 0;}#sk-container-id-3 div.sk-toggleable {background-color: white;}#sk-container-id-3 label.sk-toggleable__label {cursor: pointer;display: block;width: 100%;margin-bottom: 0;padding: 0.3em;box-sizing: border-box;text-align: center;}#sk-container-id-3 label.sk-toggleable__label-arrow:before {content: \"▸\";float: left;margin-right: 0.25em;color: #696969;}#sk-container-id-3 label.sk-toggleable__label-arrow:hover:before {color: black;}#sk-container-id-3 div.sk-estimator:hover label.sk-toggleable__label-arrow:before {color: black;}#sk-container-id-3 div.sk-toggleable__content {max-height: 0;max-width: 0;overflow: hidden;text-align: left;background-color: #f0f8ff;}#sk-container-id-3 div.sk-toggleable__content pre {margin: 0.2em;color: black;border-radius: 0.25em;background-color: #f0f8ff;}#sk-container-id-3 input.sk-toggleable__control:checked~div.sk-toggleable__content {max-height: 200px;max-width: 100%;overflow: auto;}#sk-container-id-3 input.sk-toggleable__control:checked~label.sk-toggleable__label-arrow:before {content: \"▾\";}#sk-container-id-3 div.sk-estimator input.sk-toggleable__control:checked~label.sk-toggleable__label {background-color: #d4ebff;}#sk-container-id-3 div.sk-label input.sk-toggleable__control:checked~label.sk-toggleable__label {background-color: #d4ebff;}#sk-container-id-3 input.sk-hidden--visually {border: 0;clip: rect(1px 1px 1px 1px);clip: rect(1px, 1px, 1px, 1px);height: 1px;margin: -1px;overflow: hidden;padding: 0;position: absolute;width: 1px;}#sk-container-id-3 div.sk-estimator {font-family: monospace;background-color: #f0f8ff;border: 1px dotted black;border-radius: 0.25em;box-sizing: border-box;margin-bottom: 0.5em;}#sk-container-id-3 div.sk-estimator:hover {background-color: #d4ebff;}#sk-container-id-3 div.sk-parallel-item::after {content: \"\";width: 100%;border-bottom: 1px solid gray;flex-grow: 1;}#sk-container-id-3 div.sk-label:hover label.sk-toggleable__label {background-color: #d4ebff;}#sk-container-id-3 div.sk-serial::before {content: \"\";position: absolute;border-left: 1px solid gray;box-sizing: border-box;top: 0;bottom: 0;left: 50%;z-index: 0;}#sk-container-id-3 div.sk-serial {display: flex;flex-direction: column;align-items: center;background-color: white;padding-right: 0.2em;padding-left: 0.2em;position: relative;}#sk-container-id-3 div.sk-item {position: relative;z-index: 1;}#sk-container-id-3 div.sk-parallel {display: flex;align-items: stretch;justify-content: center;background-color: white;position: relative;}#sk-container-id-3 div.sk-item::before, #sk-container-id-3 div.sk-parallel-item::before {content: \"\";position: absolute;border-left: 1px solid gray;box-sizing: border-box;top: 0;bottom: 0;left: 50%;z-index: -1;}#sk-container-id-3 div.sk-parallel-item {display: flex;flex-direction: column;z-index: 1;position: relative;background-color: white;}#sk-container-id-3 div.sk-parallel-item:first-child::after {align-self: flex-end;width: 50%;}#sk-container-id-3 div.sk-parallel-item:last-child::after {align-self: flex-start;width: 50%;}#sk-container-id-3 div.sk-parallel-item:only-child::after {width: 0;}#sk-container-id-3 div.sk-dashed-wrapped {border: 1px dashed gray;margin: 0 0.4em 0.5em 0.4em;box-sizing: border-box;padding-bottom: 0.4em;background-color: white;}#sk-container-id-3 div.sk-label label {font-family: monospace;font-weight: bold;display: inline-block;line-height: 1.2em;}#sk-container-id-3 div.sk-label-container {text-align: center;}#sk-container-id-3 div.sk-container {/* jupyter's `normalize.less` sets `[hidden] { display: none; }` but bootstrap.min.css set `[hidden] { display: none !important; }` so we also need the `!important` here to be able to override the default hidden behavior on the sphinx rendered scikit-learn.org. See: https://github.com/scikit-learn/scikit-learn/issues/21755 */display: inline-block !important;position: relative;}#sk-container-id-3 div.sk-text-repr-fallback {display: none;}</style><div id=\"sk-container-id-3\" class=\"sk-top-container\"><div class=\"sk-text-repr-fallback\"><pre>RandomizedSearchCV(cv=3,\n",
       "                   estimator=XGBClassifier(base_score=None, booster=None,\n",
       "                                           callbacks=None,\n",
       "                                           colsample_bylevel=None,\n",
       "                                           colsample_bynode=None,\n",
       "                                           colsample_bytree=None, device=None,\n",
       "                                           early_stopping_rounds=None,\n",
       "                                           enable_categorical=False,\n",
       "                                           eval_metric=None, feature_types=None,\n",
       "                                           gamma=None, grow_policy=None,\n",
       "                                           importance_type=None,\n",
       "                                           interaction_constraints=None,\n",
       "                                           learning_rate...\n",
       "                                           max_leaves=None,\n",
       "                                           min_child_weight=None, missing=nan,\n",
       "                                           monotone_constraints=None,\n",
       "                                           multi_strategy=None,\n",
       "                                           n_estimators=None, n_jobs=None,\n",
       "                                           num_parallel_tree=None,\n",
       "                                           random_state=None, ...),\n",
       "                   param_distributions={&#x27;colsample_bytree&#x27;: [0.6, 0.8, 1.0],\n",
       "                                        &#x27;gamma&#x27;: [0.5, 1, 1.5, 2, 5],\n",
       "                                        &#x27;max_depth&#x27;: [3, 4, 5],\n",
       "                                        &#x27;min_child_weight&#x27;: [1, 5, 10],\n",
       "                                        &#x27;subsample&#x27;: [0.6, 0.8, 1.0]},\n",
       "                   scoring=&#x27;roc_auc&#x27;, verbose=True)</pre><b>In a Jupyter environment, please rerun this cell to show the HTML representation or trust the notebook. <br />On GitHub, the HTML representation is unable to render, please try loading this page with nbviewer.org.</b></div><div class=\"sk-container\" hidden><div class=\"sk-item sk-dashed-wrapped\"><div class=\"sk-label-container\"><div class=\"sk-label sk-toggleable\"><input class=\"sk-toggleable__control sk-hidden--visually\" id=\"sk-estimator-id-7\" type=\"checkbox\" ><label for=\"sk-estimator-id-7\" class=\"sk-toggleable__label sk-toggleable__label-arrow\">RandomizedSearchCV</label><div class=\"sk-toggleable__content\"><pre>RandomizedSearchCV(cv=3,\n",
       "                   estimator=XGBClassifier(base_score=None, booster=None,\n",
       "                                           callbacks=None,\n",
       "                                           colsample_bylevel=None,\n",
       "                                           colsample_bynode=None,\n",
       "                                           colsample_bytree=None, device=None,\n",
       "                                           early_stopping_rounds=None,\n",
       "                                           enable_categorical=False,\n",
       "                                           eval_metric=None, feature_types=None,\n",
       "                                           gamma=None, grow_policy=None,\n",
       "                                           importance_type=None,\n",
       "                                           interaction_constraints=None,\n",
       "                                           learning_rate...\n",
       "                                           max_leaves=None,\n",
       "                                           min_child_weight=None, missing=nan,\n",
       "                                           monotone_constraints=None,\n",
       "                                           multi_strategy=None,\n",
       "                                           n_estimators=None, n_jobs=None,\n",
       "                                           num_parallel_tree=None,\n",
       "                                           random_state=None, ...),\n",
       "                   param_distributions={&#x27;colsample_bytree&#x27;: [0.6, 0.8, 1.0],\n",
       "                                        &#x27;gamma&#x27;: [0.5, 1, 1.5, 2, 5],\n",
       "                                        &#x27;max_depth&#x27;: [3, 4, 5],\n",
       "                                        &#x27;min_child_weight&#x27;: [1, 5, 10],\n",
       "                                        &#x27;subsample&#x27;: [0.6, 0.8, 1.0]},\n",
       "                   scoring=&#x27;roc_auc&#x27;, verbose=True)</pre></div></div></div><div class=\"sk-parallel\"><div class=\"sk-parallel-item\"><div class=\"sk-item\"><div class=\"sk-label-container\"><div class=\"sk-label sk-toggleable\"><input class=\"sk-toggleable__control sk-hidden--visually\" id=\"sk-estimator-id-8\" type=\"checkbox\" ><label for=\"sk-estimator-id-8\" class=\"sk-toggleable__label sk-toggleable__label-arrow\">estimator: XGBClassifier</label><div class=\"sk-toggleable__content\"><pre>XGBClassifier(base_score=None, booster=None, callbacks=None,\n",
       "              colsample_bylevel=None, colsample_bynode=None,\n",
       "              colsample_bytree=None, device=None, early_stopping_rounds=None,\n",
       "              enable_categorical=False, eval_metric=None, feature_types=None,\n",
       "              gamma=None, grow_policy=None, importance_type=None,\n",
       "              interaction_constraints=None, learning_rate=None, max_bin=None,\n",
       "              max_cat_threshold=None, max_cat_to_onehot=None,\n",
       "              max_delta_step=None, max_depth=None, max_leaves=None,\n",
       "              min_child_weight=None, missing=nan, monotone_constraints=None,\n",
       "              multi_strategy=None, n_estimators=None, n_jobs=None,\n",
       "              num_parallel_tree=None, random_state=None, ...)</pre></div></div></div><div class=\"sk-serial\"><div class=\"sk-item\"><div class=\"sk-estimator sk-toggleable\"><input class=\"sk-toggleable__control sk-hidden--visually\" id=\"sk-estimator-id-9\" type=\"checkbox\" ><label for=\"sk-estimator-id-9\" class=\"sk-toggleable__label sk-toggleable__label-arrow\">XGBClassifier</label><div class=\"sk-toggleable__content\"><pre>XGBClassifier(base_score=None, booster=None, callbacks=None,\n",
       "              colsample_bylevel=None, colsample_bynode=None,\n",
       "              colsample_bytree=None, device=None, early_stopping_rounds=None,\n",
       "              enable_categorical=False, eval_metric=None, feature_types=None,\n",
       "              gamma=None, grow_policy=None, importance_type=None,\n",
       "              interaction_constraints=None, learning_rate=None, max_bin=None,\n",
       "              max_cat_threshold=None, max_cat_to_onehot=None,\n",
       "              max_delta_step=None, max_depth=None, max_leaves=None,\n",
       "              min_child_weight=None, missing=nan, monotone_constraints=None,\n",
       "              multi_strategy=None, n_estimators=None, n_jobs=None,\n",
       "              num_parallel_tree=None, random_state=None, ...)</pre></div></div></div></div></div></div></div></div></div></div>"
      ],
      "text/plain": [
       "RandomizedSearchCV(cv=3,\n",
       "                   estimator=XGBClassifier(base_score=None, booster=None,\n",
       "                                           callbacks=None,\n",
       "                                           colsample_bylevel=None,\n",
       "                                           colsample_bynode=None,\n",
       "                                           colsample_bytree=None, device=None,\n",
       "                                           early_stopping_rounds=None,\n",
       "                                           enable_categorical=False,\n",
       "                                           eval_metric=None, feature_types=None,\n",
       "                                           gamma=None, grow_policy=None,\n",
       "                                           importance_type=None,\n",
       "                                           interaction_constraints=None,\n",
       "                                           learning_rate...\n",
       "                                           max_leaves=None,\n",
       "                                           min_child_weight=None, missing=nan,\n",
       "                                           monotone_constraints=None,\n",
       "                                           multi_strategy=None,\n",
       "                                           n_estimators=None, n_jobs=None,\n",
       "                                           num_parallel_tree=None,\n",
       "                                           random_state=None, ...),\n",
       "                   param_distributions={'colsample_bytree': [0.6, 0.8, 1.0],\n",
       "                                        'gamma': [0.5, 1, 1.5, 2, 5],\n",
       "                                        'max_depth': [3, 4, 5],\n",
       "                                        'min_child_weight': [1, 5, 10],\n",
       "                                        'subsample': [0.6, 0.8, 1.0]},\n",
       "                   scoring='roc_auc', verbose=True)"
      ]
     },
     "execution_count": 63,
     "metadata": {},
     "output_type": "execute_result"
    }
   ],
   "source": [
    "grid_search.fit(df_,y)"
   ]
  },
  {
   "cell_type": "code",
   "execution_count": 64,
   "metadata": {},
   "outputs": [
    {
     "name": "stdout",
     "output_type": "stream",
     "text": [
      "Mean value of roc_auc_score for XGB Classifier:0.8625\n"
     ]
    }
   ],
   "source": [
    "xgb=grid_search.best_estimator_\n",
    "scores_xgb=cross_val_score(xgb,df_,y,cv=5)\n",
    "print('Mean value of roc_auc_score for XGB Classifier:{}'.format(np.mean(scores_xgb)))"
   ]
  },
  {
   "cell_type": "markdown",
   "metadata": {},
   "source": [
    "*lgbm:*"
   ]
  },
  {
   "cell_type": "code",
   "execution_count": 65,
   "metadata": {},
   "outputs": [
    {
     "name": "stdout",
     "output_type": "stream",
     "text": [
      "[LightGBM] [Info] Number of positive: 1358, number of negative: 5308\n",
      "[LightGBM] [Info] Auto-choosing row-wise multi-threading, the overhead of testing was 0.002305 seconds.\n",
      "You can set `force_row_wise=true` to remove the overhead.\n",
      "And if memory is not enough, you can set `force_col_wise=true`.\n",
      "[LightGBM] [Info] Total Bins 863\n",
      "[LightGBM] [Info] Number of data points in the train set: 6666, number of used features: 13\n",
      "[LightGBM] [Info] [binary:BoostFromScore]: pavg=0.203720 -> initscore=-1.363202\n",
      "[LightGBM] [Info] Start training from score -1.363202\n",
      "[LightGBM] [Warning] No further splits with positive gain, best gain: -inf\n",
      "[LightGBM] [Warning] No further splits with positive gain, best gain: -inf\n",
      "[LightGBM] [Warning] No further splits with positive gain, best gain: -inf\n",
      "[LightGBM] [Info] Number of positive: 1358, number of negative: 5309\n",
      "[LightGBM] [Info] Auto-choosing col-wise multi-threading, the overhead of testing was 0.000539 seconds.\n",
      "You can set `force_col_wise=true` to remove the overhead.\n",
      "[LightGBM] [Info] Total Bins 863\n",
      "[LightGBM] [Info] Number of data points in the train set: 6667, number of used features: 13\n",
      "[LightGBM] [Info] [binary:BoostFromScore]: pavg=0.203690 -> initscore=-1.363390\n",
      "[LightGBM] [Info] Start training from score -1.363390\n",
      "[LightGBM] [Warning] No further splits with positive gain, best gain: -inf\n",
      "[LightGBM] [Warning] No further splits with positive gain, best gain: -inf\n",
      "[LightGBM] [Warning] No further splits with positive gain, best gain: -inf\n",
      "[LightGBM] [Warning] No further splits with positive gain, best gain: -inf\n",
      "[LightGBM] [Info] Number of positive: 1358, number of negative: 5309\n",
      "[LightGBM] [Info] Auto-choosing col-wise multi-threading, the overhead of testing was 0.000502 seconds.\n",
      "You can set `force_col_wise=true` to remove the overhead.\n",
      "[LightGBM] [Info] Total Bins 862\n",
      "[LightGBM] [Info] Number of data points in the train set: 6667, number of used features: 13\n",
      "[LightGBM] [Info] [binary:BoostFromScore]: pavg=0.203690 -> initscore=-1.363390\n",
      "[LightGBM] [Info] Start training from score -1.363390\n",
      "[LightGBM] [Warning] No further splits with positive gain, best gain: -inf\n",
      "[LightGBM] [Warning] No further splits with positive gain, best gain: -inf\n"
     ]
    },
    {
     "data": {
      "text/plain": [
       "0.8618995372842623"
      ]
     },
     "execution_count": 65,
     "metadata": {},
     "output_type": "execute_result"
    }
   ],
   "source": [
    "lgbm=LGBMClassifier(objective = 'binary',\n",
    "                     n_estimators = 500,\n",
    "                     max_depth = 7,\n",
    "                     learning_rate = 0.01,\n",
    "                     num_leaves = 20,\n",
    "                     reg_alpha = 3,\n",
    "                     reg_lambda = 3,\n",
    "                     subsample = 0.7,\n",
    "                     colsample_bytree = 0.7)\n",
    "lgbm_scores=cross_val_score(lgbm,df_,y,cv=3)\n",
    "np.mean(lgbm_scores)"
   ]
  }
 ],
 "metadata": {
  "kernelspec": {
   "display_name": "Python 3",
   "language": "python",
   "name": "python3"
  },
  "language_info": {
   "codemirror_mode": {
    "name": "ipython",
    "version": 3
   },
   "file_extension": ".py",
   "mimetype": "text/x-python",
   "name": "python",
   "nbconvert_exporter": "python",
   "pygments_lexer": "ipython3",
   "version": "3.11.3"
  }
 },
 "nbformat": 4,
 "nbformat_minor": 2
}
